{
 "cells": [
  {
   "cell_type": "code",
   "execution_count": 4,
   "metadata": {},
   "outputs": [],
   "source": [
    "from mdp import *\n",
    "import math, time, random\n",
    "from collections import defaultdict\n",
    "import numpy as np\n",
    "import matplotlib.pyplot as plt"
   ]
  },
  {
   "cell_type": "markdown",
   "metadata": {},
   "source": [
    "#### Define a base Class for the tree nodes"
   ]
  },
  {
   "cell_type": "code",
   "execution_count": 6,
   "metadata": {},
   "outputs": [],
   "source": [
    "class Node:\n",
    "\n",
    "    # static counter for node IDs\n",
    "    next_node_id = 0\n",
    "\n",
    "    # static dictionary for recording the number of times the node has been visited\n",
    "    visits = defaultdict(lambda: 0)\n",
    "\n",
    "    def __init__(self, mdp, parent, state, qfunction, bandit, reward=0.0, action=None):\n",
    "        self.mdp = mdp\n",
    "        self.parent = parent\n",
    "        self.state = state\n",
    "        self.id = Node.next_node_id\n",
    "        Node.next_node_id += 1\n",
    "\n",
    "        # initialize Q function\n",
    "        self.qfunction = qfunction\n",
    "\n",
    "        # multi-armed bandit for node selection\n",
    "        self.bandit = bandit\n",
    "\n",
    "        # immediate reward received for transitioning into this state\n",
    "        self.reward = reward\n",
    "\n",
    "        # action that generated this node\n",
    "        self.action = action\n",
    "\n",
    "    # select a node that hasn't been fully expanded, i.e. leaf node\n",
    "    def select(self): abstractmethod\n",
    "\n",
    "    # expand a node if it is non-terminal state\n",
    "    def expand(self): abstractmethod\n",
    "\n",
    "    # backpropagate accumulate reward to the root node\n",
    "    def backpropagate(self): abstractmethod\n",
    "\n",
    "    # return V of this node\n",
    "    def get_value(self):\n",
    "        _, value = self.qfunction.get_maxQ(self.state, self.mdp.get_actions(self.state))\n",
    "\n",
    "    \n",
    "\n",
    "\n"
   ]
  },
  {
   "cell_type": "markdown",
   "metadata": {},
   "source": [
    "#### Define a class implementing the MCTS algorithm"
   ]
  },
  {
   "cell_type": "code",
   "execution_count": 7,
   "metadata": {},
   "outputs": [],
   "source": [
    "class MCTS:\n",
    "    \n",
    "    def __init__(self, mdp, qfunction, bandit):\n",
    "        self.mdp = mdp\n",
    "        self.qfunction = qfunction\n",
    "        self.bandit = bandit\n",
    "\n",
    "\n",
    "    def mcts(self, timeout=1, root_node=None):\n",
    "        # create a root node if none provided\n",
    "        if root_node == None:\n",
    "            root_node = self.create_root_node()\n",
    "\n",
    "        # start the timer\n",
    "        start_time = time.time()\n",
    "        current_time = time.time()\n",
    "\n",
    "        # perform mcts iterations until timeout\n",
    "        while current_time < start_time + timeout:\n",
    "\n",
    "            # select node for expansion\n",
    "            selected_node = root_node.expand()\n",
    "            \n",
    "            if not (self.mdp.is_exit(selected_node.state)):\n",
    "\n",
    "                # expand the selected node to generate a child node (if the node is not a terminal state)\n",
    "                child = selected_node.expand()\n",
    "\n",
    "                # run simulation to get a reward\n",
    "                reward = self.simulate(child)\n",
    "\n",
    "                # backpropagate the reward to root node\n",
    "                selected_node.backpropagate(reward, child)\n",
    "\n",
    "            current_time = time.time()          \n",
    "\n",
    "        return root_node\n",
    "\n",
    "\n",
    "    # createa a root node representing the initial state\n",
    "    def create_root_node(self): abstractmethod       \n",
    "\n",
    "\n",
    "    # choose a random action for monte carlo simulation (can use a heuristic to choose actions instead of picking at random)\n",
    "    def choose_action(self, state):\n",
    "        actions = self.mdp.get_actions(state)\n",
    "        return random.choice(actions)\n",
    "    \n",
    "    # run simulation ubntil terminal state reached (can be stopped after a fixed number of time steps instead of running until reaching terminal state)\n",
    "    def simulate(self, node):\n",
    "        state = node.state\n",
    "        cumulative_reward = 0.0\n",
    "        depth = 0\n",
    "\n",
    "        while not self.mdp.is_exit(state):\n",
    "            # choose an action to execute\n",
    "            action = self.choose(state)\n",
    "            # transition to next state\n",
    "            (next_state, reward) = self.mdp.execute(state, action)\n",
    "            # discount the reward\n",
    "            cumulative_reward += pow(self.mdp.gamma, depth) * reward \n",
    "            depth += 1\n",
    "            state = next_state\n",
    "\n",
    "        return cumulative_reward    \n",
    "\n"
   ]
  },
  {
   "cell_type": "code",
   "execution_count": null,
   "metadata": {},
   "outputs": [],
   "source": []
  },
  {
   "cell_type": "code",
   "execution_count": null,
   "metadata": {},
   "outputs": [],
   "source": []
  },
  {
   "cell_type": "markdown",
   "metadata": {},
   "source": [
    "#### Implement a derived class for tree node for single agent MCTS"
   ]
  },
  {
   "cell_type": "code",
   "execution_count": null,
   "metadata": {},
   "outputs": [],
   "source": [
    "class SingleAgentNode(Node):\n",
    "    \n",
    "        "
   ]
  }
 ],
 "metadata": {
  "kernelspec": {
   "display_name": "tf_cv",
   "language": "python",
   "name": "python3"
  },
  "language_info": {
   "codemirror_mode": {
    "name": "ipython",
    "version": 3
   },
   "file_extension": ".py",
   "mimetype": "text/x-python",
   "name": "python",
   "nbconvert_exporter": "python",
   "pygments_lexer": "ipython3",
   "version": "3.9.17"
  }
 },
 "nbformat": 4,
 "nbformat_minor": 2
}
