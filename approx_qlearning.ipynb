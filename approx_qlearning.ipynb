{
 "cells": [
  {
   "cell_type": "code",
   "execution_count": 1,
   "metadata": {},
   "outputs": [],
   "source": [
    "import mdp\n",
    "import numpy as np\n",
    "import matplotlib.pyplot as plt"
   ]
  },
  {
   "cell_type": "markdown",
   "metadata": {},
   "source": [
    "### Approximate Q learning: Linear Q-function"
   ]
  },
  {
   "cell_type": "code",
   "execution_count": 4,
   "metadata": {},
   "outputs": [],
   "source": [
    "# defining a linear Q function class\n",
    "class LinearQ():\n",
    "\n",
    "    def __init__(self, features):\n",
    "        self.features = features\n",
    "        # initialize weights to zero\n",
    "        num_weights = self.features.get_num_actions() * self.features.get_num_features() \n",
    "        self.weights = np.zeros(shape=(num_weights)) \n",
    "\n",
    "\n",
    "    # update the weights\n",
    "    def update(self, state, action, delta):\n",
    "        # extract features from state\n",
    "        feature_values = self.features.extract(state, action)\n",
    "        # update weights\n",
    "        self.weights += delta * feature_values\n",
    "\n",
    "\n",
    "    # evaluate q function\n",
    "    def evaluate(self, state, action):\n",
    "        # extract features from state\n",
    "        feature_values = self.features.extract(state, action)\n",
    "        # compute Q value\n",
    "        Q = np.dot(feature_values, self.weights)\n",
    "        return Q\n",
    "\n",
    "\n",
    "\n",
    "    \n",
    "\n",
    "\n",
    "# defining a feature extractor class for gridworld problem (hand-engineered features)\n",
    "class GridWorldFeatures:\n",
    "    def __init__(self, mdp):\n",
    "        self.mdp = mdp\n",
    "        self.num_features = 3\n",
    "        \n",
    "\n",
    "    def get_num_features(self):\n",
    "        return self.num_features    \n",
    " \n",
    " \n",
    "    def get_num_actions(self):\n",
    "        return len(self.mdp.get_actions())\n",
    "\n",
    "\n",
    "    '''\n",
    "        We will define three (normalized) features:\n",
    "        1) x-distance from goal\n",
    "        2) y-distance from goal\n",
    "        3) manhattan distance from goal\n",
    "    '''\n",
    "    def extract_features(self, state, action):\n",
    "        (xg, yg) = self.mdp.goal\n",
    "        (x, y) = state\n",
    "        e = 0.01  # small additive value for avoiding division by zero        \n",
    "\n",
    "        feature_values = []\n",
    "        for a in self.mdp.get_actions():\n",
    "            if (a == action) and (state != self.mdp.exit):\n",
    "                feature_values.append([(x+e)/(xg+e)])\n",
    "                feature_values.append([(y+e)/(yg+e)])\n",
    "                feature_values.append([(abs(xg-x)+abs(yg-y)+e)/(xg+yg+e)])\n",
    "            else:\n",
    "                feature_values += [0.0 for _ in range(self.num_features)]\n",
    "\n"
   ]
  },
  {
   "cell_type": "code",
   "execution_count": 3,
   "metadata": {},
   "outputs": [],
   "source": [
    "# instantiate grid world mdp\n",
    "gw = mdp.GridWorld(discount_factor=0.9, withQTable=False)\n",
    "\n",
    "# instantiate feature extractor\n",
    "features = GridWorldFeatures(gw)\n",
    "\n",
    "# instantiate linear q function object\n",
    "Qfunction = LinearQ(features)\n",
    "\n"
   ]
  },
  {
   "cell_type": "code",
   "execution_count": 6,
   "metadata": {},
   "outputs": [
    {
     "name": "stdout",
     "output_type": "stream",
     "text": [
      "('c', 15)\n"
     ]
    }
   ],
   "source": [
    "d = {'a' : 8, 'b' : 4, 'c' : 15}\n",
    "\n",
    "m = max(d.items(), key=lambda x: x[1])\n",
    "print(m)"
   ]
  },
  {
   "cell_type": "code",
   "execution_count": null,
   "metadata": {},
   "outputs": [],
   "source": []
  }
 ],
 "metadata": {
  "kernelspec": {
   "display_name": "tf_cv",
   "language": "python",
   "name": "python3"
  },
  "language_info": {
   "codemirror_mode": {
    "name": "ipython",
    "version": 3
   },
   "file_extension": ".py",
   "mimetype": "text/x-python",
   "name": "python",
   "nbconvert_exporter": "python",
   "pygments_lexer": "ipython3",
   "version": "3.9.17"
  },
  "orig_nbformat": 4
 },
 "nbformat": 4,
 "nbformat_minor": 2
}
